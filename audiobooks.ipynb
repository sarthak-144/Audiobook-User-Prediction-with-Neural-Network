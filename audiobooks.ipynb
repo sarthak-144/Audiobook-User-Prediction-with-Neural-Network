{
 "cells": [
  {
   "cell_type": "code",
   "execution_count": 31,
   "metadata": {},
   "outputs": [],
   "source": [
    "import numpy as np\n",
    "import tensorflow as tf "
   ]
  },
  {
   "cell_type": "code",
   "execution_count": 32,
   "metadata": {},
   "outputs": [],
   "source": [
    "npz = np.load('data_train.npz')\n",
    "\n",
    "train_inputs = npz['inputs'].astype(np.float32)\n",
    "train_targets = npz['targets'].astype(np.int32)\n",
    "\n",
    "npz = np.load('data_valid.npz')\n",
    "validation_inputs = npz['inputs'].astype(np.float32)\n",
    "validation_targets = npz['targets'].astype(np.int32)  \n",
    "\n",
    "npz = np.load('data_test.npz')\n",
    "test_inputs = npz['inputs'].astype(np.float32)\n",
    "test_targets = npz['targets'].astype(np.int32)\n"
   ]
  },
  {
   "cell_type": "markdown",
   "metadata": {},
   "source": [
    "Model"
   ]
  },
  {
   "cell_type": "code",
   "execution_count": 33,
   "metadata": {},
   "outputs": [],
   "source": [
    "input_size = 10\n",
    "output_size = 2\n",
    "hidden_size = 100\n",
    "\n",
    "model = tf.keras.Sequential([\n",
    "    tf.keras.layers.Dense(hidden_size, activation='relu'),\n",
    "    tf.keras.layers.Dense(hidden_size, activation='relu'),\n",
    "    tf.keras.layers.Dense(hidden_size, activation='relu'),\n",
    "    tf.keras.layers.Dense(output_size, activation='softmax')\n",
    "])\n",
    "\n",
    "early_stopping = tf.keras.callbacks.EarlyStopping(patience=2)\n",
    "\n",
    "model.compile(optimizer='adam', loss='sparse_categorical_crossentropy', metrics=['accuracy'])\n"
   ]
  },
  {
   "cell_type": "code",
   "execution_count": 35,
   "metadata": {},
   "outputs": [
    {
     "name": "stdout",
     "output_type": "stream",
     "text": [
      "Epoch 1/100\n",
      "112/112 - 0s - 4ms/step - accuracy: 0.8122 - loss: 0.3446 - val_accuracy: 0.8345 - val_loss: 0.3547\n",
      "Epoch 2/100\n",
      "112/112 - 0s - 2ms/step - accuracy: 0.8125 - loss: 0.3431 - val_accuracy: 0.8009 - val_loss: 0.3790\n",
      "Epoch 3/100\n",
      "112/112 - 0s - 2ms/step - accuracy: 0.8273 - loss: 0.3344 - val_accuracy: 0.8210 - val_loss: 0.3527\n",
      "Epoch 4/100\n",
      "112/112 - 0s - 2ms/step - accuracy: 0.8141 - loss: 0.3305 - val_accuracy: 0.7763 - val_loss: 0.3919\n",
      "Epoch 5/100\n",
      "112/112 - 0s - 2ms/step - accuracy: 0.8186 - loss: 0.3301 - val_accuracy: 0.8300 - val_loss: 0.3468\n",
      "Epoch 6/100\n",
      "112/112 - 0s - 2ms/step - accuracy: 0.8153 - loss: 0.3316 - val_accuracy: 0.8255 - val_loss: 0.3614\n",
      "Epoch 7/100\n",
      "112/112 - 0s - 4ms/step - accuracy: 0.8281 - loss: 0.3242 - val_accuracy: 0.8389 - val_loss: 0.3310\n",
      "Epoch 8/100\n",
      "112/112 - 0s - 2ms/step - accuracy: 0.8276 - loss: 0.3264 - val_accuracy: 0.8300 - val_loss: 0.3528\n",
      "Epoch 9/100\n",
      "112/112 - 0s - 2ms/step - accuracy: 0.8164 - loss: 0.3267 - val_accuracy: 0.8166 - val_loss: 0.3459\n"
     ]
    },
    {
     "data": {
      "text/plain": [
       "<keras.src.callbacks.history.History at 0x2003508f040>"
      ]
     },
     "execution_count": 35,
     "metadata": {},
     "output_type": "execute_result"
    }
   ],
   "source": [
    "batch_size = 32\n",
    "max_epochs = 100\n",
    "model.fit(train_inputs, train_targets,\n",
    "          batch_size=batch_size, epochs=max_epochs,\n",
    "          callbacks=[early_stopping],\n",
    "          validation_data=(validation_inputs, validation_targets),\n",
    "          verbose=2)"
   ]
  },
  {
   "cell_type": "code",
   "execution_count": 37,
   "metadata": {},
   "outputs": [
    {
     "name": "stdout",
     "output_type": "stream",
     "text": [
      "\u001b[1m14/14\u001b[0m \u001b[32m━━━━━━━━━━━━━━━━━━━━\u001b[0m\u001b[37m\u001b[0m \u001b[1m0s\u001b[0m 12ms/step - accuracy: 0.8379 - loss: 0.3078\n"
     ]
    },
    {
     "data": {
      "text/plain": [
       "[0.3385583460330963, 0.8147321343421936]"
      ]
     },
     "execution_count": 37,
     "metadata": {},
     "output_type": "execute_result"
    }
   ],
   "source": [
    "model.evaluate(test_inputs, test_targets)"
   ]
  },
  {
   "cell_type": "code",
   "execution_count": null,
   "metadata": {},
   "outputs": [],
   "source": []
  }
 ],
 "metadata": {
  "kernelspec": {
   "display_name": "Python (py3tf_env)",
   "language": "python",
   "name": "py3tf_env"
  },
  "language_info": {
   "codemirror_mode": {
    "name": "ipython",
    "version": 3
   },
   "file_extension": ".py",
   "mimetype": "text/x-python",
   "name": "python",
   "nbconvert_exporter": "python",
   "pygments_lexer": "ipython3",
   "version": "3.9.21"
  }
 },
 "nbformat": 4,
 "nbformat_minor": 2
}
